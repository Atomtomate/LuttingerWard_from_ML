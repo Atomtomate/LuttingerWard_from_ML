{
 "cells": [
  {
   "cell_type": "code",
   "execution_count": null,
   "metadata": {},
   "outputs": [],
   "source": [
    "# Setup of environment\n",
    "from google.colab import drive\n",
    "drive.mount('/content/drive/')\n",
    "\n",
    "!pip install gdown\n",
    "import gdown\n",
    "\n",
    "%cd /content/drive/MyDrive\n",
    "\n",
    "import os\n",
    "if os.path.exists(\"LuttingerWard_from_ML\") == True:\n",
    "  %cd LuttingerWard_from_ML/code\n",
    "  !git pull\n",
    "else:\n",
    "  !git clone https://github.com/DanielSpringer/LuttingerWard_from_ML.git\n",
    "  %cd LuttingerWard_from_ML\n",
    "  %mkdir -p data\n",
    "  url = 'https://drive.google.com/file/d/1hFFcaGH2Cm_bCUGLRHHEJg24HUhjxijM/view?usp=sharing'\n",
    "  gdown.download(url=url, quiet=False, fuzzy=True)\n",
    "  %mv batch1.hdf5 data/\n",
    "  %cd code"
   ]
  }
 ],
 "metadata": {
  "language_info": {
   "name": "python"
  }
 },
 "nbformat": 4,
 "nbformat_minor": 2
}
