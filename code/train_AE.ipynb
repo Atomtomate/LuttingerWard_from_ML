{
 "cells": [
  {
   "cell_type": "code",
   "execution_count": 1,
   "metadata": {
    "colab": {
     "base_uri": "https://localhost:8080/"
    },
    "id": "rT6jGCyeda1U",
    "outputId": "7deec4f1-feea-4917-d6b4-14d65e2928de"
   },
   "outputs": [],
   "source": [
    "# !pip install --upgrade pip\n",
    "# !pip install gdown\n",
    "# import gdown\n",
    "# %pwd\n",
    "# %ls\n",
    "# %cd /content\n",
    "# %cd drive\n",
    "# %cd MyDrive\n",
    "# %mkdir -p Satellite\n",
    "# %cd Satellite\n",
    "# !nvidia-smi\n",
    "# url = 'https://drive.google.com/file/d/1hCM96mRJeYiivFFtQJcTK6w6nYh8GJ-Q'\n",
    "# gdown.download_folder(url)\n",
    "# !pip install pytorch_lightning\n",
    "# !pip update pytorch_lightning\n",
    "# from google.colab import drive\n",
    "# drive.mount('/content/drive/')\n",
    "\n",
    "# import sys\n",
    "# sys.path.append('drive/MyDrive/LuttingerWard_Prediction/')\n",
    "# # import data\n",
    "# # # import drive.MyDrive.LuttingerWard_Prediction.data\n",
    "\n",
    "# !ls drive/MyDrive/LuttingerWard_Prediction"
   ]
  },
  {
   "cell_type": "code",
   "execution_count": 2,
   "metadata": {
    "id": "XtZLONWvRvIg"
   },
   "outputs": [],
   "source": [
    "import pytorch_lightning as pl\n",
    "from torch import nn\n",
    "import matplotlib.pyplot as plt\n",
    "import torch\n",
    "from torch.utils.data import DataLoader\n",
    "from pytorch_lightning.loggers import TensorBoardLogger\n",
    "import datetime\n"
   ]
  },
  {
   "cell_type": "markdown",
   "metadata": {
    "slideshow": {
     "slide_type": "fragment"
    }
   },
   "source": [
    "Training starts here:"
   ]
  },
  {
   "cell_type": "code",
   "execution_count": 1,
   "metadata": {},
   "outputs": [
    {
     "name": "stderr",
     "output_type": "stream",
     "text": [
      "/home/fs72150/springerd/XInstalls/anaconda3/envs/conda_ml/lib/python3.9/site-packages/tqdm/auto.py:21: TqdmWarning: IProgress not found. Please update jupyter and ipywidgets. See https://ipywidgets.readthedocs.io/en/stable/user_install.html\n",
      "  from .autonotebook import tqdm as notebook_tqdm\n",
      "/home/fs72150/springerd/XInstalls/anaconda3/envs/conda_ml/lib/python3.9/site-packages/scipy/__init__.py:146: UserWarning: A NumPy version >=1.16.5 and <1.23.0 is required for this version of SciPy (detected version 1.26.2\n",
      "  warnings.warn(f\"A NumPy version >={np_minversion} and <{np_maxversion}\"\n"
     ]
    },
    {
     "ename": "NameError",
     "evalue": "name 'torch' is not defined",
     "output_type": "error",
     "traceback": [
      "\u001b[0;31m---------------------------------------------------------------------------\u001b[0m",
      "\u001b[0;31mNameError\u001b[0m                                 Traceback (most recent call last)",
      "Cell \u001b[0;32mIn[1], line 25\u001b[0m\n\u001b[1;32m     22\u001b[0m config[\u001b[38;5;124m\"\u001b[39m\u001b[38;5;124mhidden2_dim\u001b[39m\u001b[38;5;124m\"\u001b[39m] \u001b[38;5;241m=\u001b[39m \u001b[38;5;28mint\u001b[39m(config[\u001b[38;5;124m\"\u001b[39m\u001b[38;5;124membedding_dim\u001b[39m\u001b[38;5;124m\"\u001b[39m]\u001b[38;5;241m/\u001b[39m\u001b[38;5;241m4\u001b[39m)\n\u001b[1;32m     23\u001b[0m config[\u001b[38;5;124m\"\u001b[39m\u001b[38;5;124mencoder_dim\u001b[39m\u001b[38;5;124m\"\u001b[39m] \u001b[38;5;241m=\u001b[39m \u001b[38;5;28mint\u001b[39m(config[\u001b[38;5;124m\"\u001b[39m\u001b[38;5;124membedding_dim\u001b[39m\u001b[38;5;124m\"\u001b[39m]\u001b[38;5;241m/\u001b[39m\u001b[38;5;241m8\u001b[39m)\n\u001b[0;32m---> 25\u001b[0m train1_set, validation_set \u001b[38;5;241m=\u001b[39m \u001b[43mtorch\u001b[49m\u001b[38;5;241m.\u001b[39mutils\u001b[38;5;241m.\u001b[39mdata\u001b[38;5;241m.\u001b[39mrandom_split(data_set, [\u001b[38;5;28mint\u001b[39m(data_set\u001b[38;5;241m.\u001b[39m\u001b[38;5;21m__len__\u001b[39m()\u001b[38;5;241m*\u001b[39m\u001b[38;5;241m0.8\u001b[39m), \u001b[38;5;28mint\u001b[39m(data_set\u001b[38;5;241m.\u001b[39m\u001b[38;5;21m__len__\u001b[39m()\u001b[38;5;241m*\u001b[39m\u001b[38;5;241m0.2\u001b[39m)], generator\u001b[38;5;241m=\u001b[39mtorch\u001b[38;5;241m.\u001b[39mGenerator()\u001b[38;5;241m.\u001b[39mmanual_seed(\u001b[38;5;241m42\u001b[39m))\n\u001b[1;32m     26\u001b[0m train_dataloader \u001b[38;5;241m=\u001b[39m DataLoader(train1_set, batch_size\u001b[38;5;241m=\u001b[39mconfig[\u001b[38;5;124m\"\u001b[39m\u001b[38;5;124mbatch_size\u001b[39m\u001b[38;5;124m\"\u001b[39m], shuffle\u001b[38;5;241m=\u001b[39m\u001b[38;5;28;01mTrue\u001b[39;00m)\n\u001b[1;32m     27\u001b[0m validation_dataloader \u001b[38;5;241m=\u001b[39m DataLoader(validation_set, batch_size\u001b[38;5;241m=\u001b[39mconfig[\u001b[38;5;124m\"\u001b[39m\u001b[38;5;124mbatch_size\u001b[39m\u001b[38;5;124m\"\u001b[39m], shuffle\u001b[38;5;241m=\u001b[39m\u001b[38;5;28;01mTrue\u001b[39;00m)\n",
      "\u001b[0;31mNameError\u001b[0m: name 'torch' is not defined"
     ]
    }
   ],
   "source": [
    "import models\n",
    "import load_data as ld\n",
    "import models\n",
    "\n",
    "config = {}\n",
    "config[\"PATH_TRAIN\"] = \"../data/batch1.hdf5\"\n",
    "\n",
    "# data_set = ld.Dataset_baseline(config)\n",
    "# config[\"MODEL_NAME\"] = \"auto_encoder\"\n",
    "data_set = ld.Dataset_baseline_conv(config)\n",
    "config[\"MODEL_NAME\"] = \"auto_encoder_conv\"\n",
    "\n",
    "config[\"in_dim\"] = data_set.data_in.shape[1]\n",
    "config[\"batch_size\"] = 50\n",
    "config[\"learning_rate\"] = 1e-4\n",
    "config[\"weight_decay\"] = 1e-5\n",
    "config[\"embedding_dim\"] = 128 #int(config[\"in_dim\"]/2)\n",
    "config[\"hidden1_dim\"] = int(config[\"embedding_dim\"]/2)\n",
    "config[\"hidden2_dim\"] = int(config[\"embedding_dim\"]/4)\n",
    "config[\"encoder_dim\"] = int(config[\"embedding_dim\"]/8)\n",
    "\n",
    "train1_set, validation_set = torch.utils.data.random_split(data_set, [int(data_set.__len__()*0.8), int(data_set.__len__()*0.2)], generator=torch.Generator().manual_seed(42))\n",
    "train_dataloader = DataLoader(train1_set, batch_size=config[\"batch_size\"], shuffle=True)\n",
    "validation_dataloader = DataLoader(validation_set, batch_size=config[\"batch_size\"], shuffle=True)\n",
    "model = models.model_wraper_AE(config)\n",
    "\n",
    "PATH = \"\"\n",
    "CONFIGURATION = f\"../saves/save_{config['MODEL_NAME']}_{datetime.datetime.now().date()}\"\n",
    "print(CONFIGURATION)\n",
    "logger = TensorBoardLogger(PATH, name=CONFIGURATION)"
   ]
  },
  {
   "cell_type": "code",
   "execution_count": 3,
   "metadata": {
    "colab": {
     "base_uri": "https://localhost:8080/",
     "height": 338
    },
    "id": "GSBFovptAiuA",
    "outputId": "6f5d6940-9622-4f05-a9b0-be24c961a83f",
    "scrolled": true
   },
   "outputs": [
    {
     "name": "stderr",
     "output_type": "stream",
     "text": [
      "GPU available: False, used: False\n",
      "TPU available: False, using: 0 TPU cores\n",
      "IPU available: False, using: 0 IPUs\n",
      "HPU available: False, using: 0 HPUs\n",
      "/home/fs72150/springerd/XInstalls/anaconda3/envs/conda_ml/lib/python3.9/site-packages/lightning_fabric/plugins/environments/slurm.py:191: The `srun` command is available on your system but is not used. HINT: If your intention is to run Lightning on SLURM, prepend your python command with `srun` like so: srun python /home/fs72150/springerd/.local/lib/python3.9/site-pa ...\n",
      "Missing logger folder: ../saves/save_auto_encoder_2023-12-17\n",
      "2023-12-17 22:50:06.367589: I tensorflow/core/platform/cpu_feature_guard.cc:182] This TensorFlow binary is optimized to use available CPU instructions in performance-critical operations.\n",
      "To enable the following instructions: SSE4.1 SSE4.2 AVX AVX2 FMA, in other operations, rebuild TensorFlow with the appropriate compiler flags.\n",
      "\n",
      "  | Name          | Type         | Params\n",
      "-----------------------------------------------\n",
      "0 | model         | auto_encoder | 52.2 K\n",
      "1 | criterion_mse | MSELoss      | 0     \n",
      "-----------------------------------------------\n",
      "52.2 K    Trainable params\n",
      "0         Non-trainable params\n",
      "52.2 K    Total params\n",
      "0.209     Total estimated model params size (MB)\n"
     ]
    },
    {
     "name": "stdout",
     "output_type": "stream",
     "text": [
      "                                                                           "
     ]
    },
    {
     "name": "stderr",
     "output_type": "stream",
     "text": [
      "/home/fs72150/springerd/XInstalls/anaconda3/envs/conda_ml/lib/python3.9/site-packages/pytorch_lightning/trainer/connectors/data_connector.py:492: Your `val_dataloader`'s sampler has shuffling enabled, it is strongly recommended that you turn shuffling off for val/test dataloaders.\n",
      "/home/fs72150/springerd/XInstalls/anaconda3/envs/conda_ml/lib/python3.9/site-packages/pytorch_lightning/trainer/connectors/data_connector.py:441: The 'val_dataloader' does not have many workers which may be a bottleneck. Consider increasing the value of the `num_workers` argument` to `num_workers=127` in the `DataLoader` to improve performance.\n",
      "/home/fs72150/springerd/XInstalls/anaconda3/envs/conda_ml/lib/python3.9/site-packages/pytorch_lightning/trainer/connectors/data_connector.py:441: The 'train_dataloader' does not have many workers which may be a bottleneck. Consider increasing the value of the `num_workers` argument` to `num_workers=127` in the `DataLoader` to improve performance.\n"
     ]
    },
    {
     "name": "stdout",
     "output_type": "stream",
     "text": [
      "Epoch 19: 100%|██████████| 3200/3200 [01:06<00:00, 48.20it/s, v_num=0]"
     ]
    },
    {
     "name": "stderr",
     "output_type": "stream",
     "text": [
      "`Trainer.fit` stopped: `max_epochs=20` reached.\n"
     ]
    },
    {
     "name": "stdout",
     "output_type": "stream",
     "text": [
      "Epoch 19: 100%|██████████| 3200/3200 [01:06<00:00, 48.19it/s, v_num=0]\n"
     ]
    }
   ],
   "source": [
    "from pytorch_lightning.plugins.environments import LightningEnvironment\n",
    "\n",
    "# trainer = pl.Trainer(max_epochs=20, accelerator='gpu', devices=1, strategy='auto', logger=logger, plugins=[LightningEnvironment()])\n",
    "trainer = pl.Trainer(max_epochs=20, devices=1, strategy='auto', logger=logger, plugins=[LightningEnvironment()])\n",
    "trainer.fit(model, train_dataloader, validation_dataloader)"
   ]
  },
  {
   "cell_type": "code",
   "execution_count": null,
   "metadata": {},
   "outputs": [],
   "source": [
    "### END OF CODE "
   ]
  },
  {
   "cell_type": "code",
   "execution_count": null,
   "metadata": {},
   "outputs": [],
   "source": []
  },
  {
   "cell_type": "code",
   "execution_count": 8,
   "metadata": {},
   "outputs": [],
   "source": [
    "\n",
    "\n",
    "\n",
    "\n",
    "#### DIRT BELOW\n",
    "#      VVVV\n",
    "\n",
    "\n",
    "# # !nvidia-smi\n",
    "# # print(len(model.val_loss))\n",
    "# # loss = []\n",
    "# # for l in model.val_loss:\n",
    "# #   loss.append(l.cpu())\n",
    "# # loss = np.array(loss)\n",
    "\n",
    "# # plt.figure(1)\n",
    "# # plt.plot(loss[0:5])\n",
    "\n",
    "# import matplotlib.pyplot as plt\n",
    "# import numpy as np\n",
    "# import h5py\n",
    "# PATH = \"batch1.hdf5\"\n",
    "# f = h5py.File(PATH, 'r')\n",
    "# print(f.keys())\n",
    "\n",
    "# iv = np.linspace(0, (2*100+1)*np.pi/30, 100)\n",
    "# print(iv.shape)\n",
    "\n",
    "# with plt.rc_context({'axes.edgecolor':'black', 'xtick.color':'black', 'ytick.color':'black', 'figure.facecolor':'white'}):\n",
    "#     plt.figure(1)\n",
    "#     plt.plot(iv, f[\"Set1\"][\"GImp\"][440,:].imag)\n",
    "# # plt.plot(f[\"Set1\"][\"GImp\"][211,:].imag)\n",
    "# # plt.plot(f[\"Set1\"][\"GImp\"][525,:].imag)\n",
    "# # plt.plot(f[\"Set1\"][\"GImp\"][52523,:].imag)\n",
    "# # plt.plot(f[\"Set1\"][\"GImp\"][1230,:].imag)\n",
    "\n",
    "# plt.figure(2)\n",
    "# plt.plot(f[\"Set1\"][\"SImp\"][440,:].imag)\n",
    "# # plt.plot(f[\"Set1\"][\"SImp\"][211,:].imag)\n",
    "# # plt.plot(f[\"Set1\"][\"SImp\"][525,:].imag)\n",
    "# # plt.plot(f[\"Set1\"][\"SImp\"][52523,:].imag)\n",
    "# # plt.plot(f[\"Set1\"][\"SImp\"][1230,:].imag)\n",
    "\n",
    "\n",
    "# from pytorch_lightning.loggers import TensorBoardLogger\n",
    "# import datetime\n",
    "\n",
    "# PATH = \"\"\n",
    "# CONFIGURATION = f\"save_{config['MODEL_NAME']}_{datetime.datetime.now().date()}\"\n",
    "# # for f in config:\n",
    "# #   if f != \"PATH_TRAIN\":\n",
    "# #     # print(config[f])\n",
    "# #     CONFIGURATION += \"_\"\n",
    "# #     CONFIGURATION += f\n",
    "# #     CONFIGURATION += str(config[f])\n",
    "# # SAVEPATH = PATH + CONFIGURATION\n",
    "# print(CONFIGURATION)\n",
    "# logger = TensorBoardLogger(PATH, name=CONFIGURATION)\n",
    "\n"
   ]
  },
  {
   "cell_type": "code",
   "execution_count": 64,
   "metadata": {},
   "outputs": [
    {
     "data": {
      "image/png": "[encoded data removed]",
      "text/plain": [
       "<Figure size 432x288 with 1 Axes>"
      ]
     },
     "metadata": {},
     "output_type": "display_data"
    }
   ],
   "source": [
    "import matplotlib.pyplot as plt\n",
    "import numpy as np\n",
    "import h5py\n",
    "PATH = \"batch1.hdf5\"\n",
    "f = h5py.File(PATH, 'r')\n",
    "# print(f[\"Set1\"].keys())\n",
    "# print(np.array(f[\"Set1\"][\"Parameters\"])[1,6])\n",
    "# print(np.array(f[\"Set1\"][\"GImp\"]).shape[1])\n",
    "# print(np.linspace(0,99,100))\n",
    "\n",
    "iv = np.linspace(0, (2*100+1)*np.pi/30, 100)\n",
    "\n",
    "# with plt.rc_context({'axes.edgecolor':'black', 'xtick.color':'black', 'ytick.color':'black', 'figure.facecolor':'white'}):\n",
    "#     plt.figure(1)\n",
    "#     plt.plot(iv, f[\"Set1\"][\"GImp\"][440,:].imag)\n",
    "    \n",
    "from scipy.special import eval_legendre\n",
    "n_freq = 100\n",
    "leg_pol = np.linspace(0, n_freq-1, n_freq)\n",
    "beta = 30 ### Later this needs to be dynamics\n",
    "iv = np.linspace(0, (2*n_freq+1)*np.pi/beta, n_freq)\n",
    "iv2 = np.linspace(0, 1, n_freq)\n",
    "vectors = np.zeros((n_freq, n_freq))\n",
    "for p in leg_pol:\n",
    "    vectors[int(p),:] = eval_legendre(int(p), iv2)\n",
    "\n",
    "with plt.rc_context({'axes.edgecolor':'black', 'xtick.color':'black', 'ytick.color':'black', 'figure.facecolor':'white'}):\n",
    "    plt.figure(2)\n",
    "    plt.plot(iv2, eval_legendre(12, iv2))\n"
   ]
  },
  {
   "cell_type": "code",
   "execution_count": null,
   "metadata": {},
   "outputs": [],
   "source": [
    "\n"
   ]
  },
  {
   "cell_type": "code",
   "execution_count": null,
   "metadata": {},
   "outputs": [],
   "source": []
  }
 ],
 "metadata": {
  "accelerator": "GPU",
  "colab": {
   "gpuType": "T4",
   "provenance": []
  },
  "kernelspec": {
   "display_name": "Python 3 (ipykernel)",
   "language": "python",
   "name": "python3"
  },
  "language_info": {
   "codemirror_mode": {
    "name": "ipython",
    "version": 3
   },
   "file_extension": ".py",
   "mimetype": "text/x-python",
   "name": "python",
   "nbconvert_exporter": "python",
   "pygments_lexer": "ipython3",
   "version": "3.9.18"
  }
 },
 "nbformat": 4,
 "nbformat_minor": 1
}
